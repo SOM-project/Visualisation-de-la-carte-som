{
  "nbformat": 4,
  "nbformat_minor": 0,
  "metadata": {
    "colab": {
      "name": "affichage_kohonen.ipynb",
      "provenance": []
    },
    "kernelspec": {
      "name": "python3",
      "display_name": "Python 3"
    },
    "language_info": {
      "name": "python"
    }
  },
  "cells": [
    {
      "cell_type": "markdown",
      "metadata": {
        "id": "5XxOQnE8lr-5"
      },
      "source": [
        "# Définir les paramètres"
      ]
    },
    {
      "cell_type": "code",
      "metadata": {
        "id": "IrN9aE43lxs4"
      },
      "source": [
        "taille=158\n",
        "nb_image=1000\n",
        "nb_classes=2\n",
        "umatrix_file_path=\"/content/umatrix.txt\"\n",
        "bmu_file_path=\"/content/bmus.txt\"\n",
        "labels_file_path=\"/content/labels_train.txt\""
      ],
      "execution_count": null,
      "outputs": []
    },
    {
      "cell_type": "markdown",
      "metadata": {
        "id": "d7q1BK5Mj36U"
      },
      "source": [
        "# Lire Umatrix"
      ]
    },
    {
      "cell_type": "code",
      "metadata": {
        "id": "l8MgFB2pjMOY"
      },
      "source": [
        "def umatrix():\n",
        "  umatrix=np.zeros((taille,taille))\n",
        "\n",
        "  \n",
        "  f = open(umatrix_file_path, \"r\")\n",
        "  comp=0\n",
        "  for line in f:\n",
        "    l=line.split(\", \")\n",
        "    umatrix[comp]=l\n",
        "    comp+=1\n",
        "  return umatrix\n"
      ],
      "execution_count": null,
      "outputs": []
    },
    {
      "cell_type": "markdown",
      "metadata": {
        "id": "G2upT0iNj-nP"
      },
      "source": [
        "# Lire data_locations"
      ]
    },
    {
      "cell_type": "code",
      "metadata": {
        "id": "LdZhzkCkkCpK"
      },
      "source": [
        "def data_locations():\n",
        "  BMUs=np.zeros((nb_image,2))\n",
        "\n",
        "  \n",
        "  f = open(bmu_file_path, \"r\")\n",
        "  comp=0\n",
        "  for line in f:\n",
        "    l=line.split(\", \")\n",
        "    BMUs[comp]=l\n",
        "    comp+=1\n",
        "  return BMUs\n",
        "\n"
      ],
      "execution_count": null,
      "outputs": []
    },
    {
      "cell_type": "markdown",
      "metadata": {
        "id": "1q-WA8frkFEp"
      },
      "source": [
        "# Affichage"
      ]
    },
    {
      "cell_type": "code",
      "metadata": {
        "id": "Sy5DnBiMkJD3"
      },
      "source": [
        "import numpy as np\n",
        "import sys, math, time\n",
        "import matplotlib.pyplot as plt\n",
        "\n",
        "def plot_data_on_map(umatrix, data_locations, data_colors, data_labels=None,\n",
        "                        node_width=20,\n",
        "                        node_edge_color=0,\n",
        "                        data_marker_size=100,\n",
        "                        invert_umatrix=True,\n",
        "                        plot_labels=False,\n",
        "                        dpi=100):\n",
        "    \n",
        "    map_x = taille\n",
        "    map_y = taille\n",
        "    canvas = np.zeros((map_y * node_width, map_x * node_width))\n",
        "    \n",
        "    tmp_umatrix = umatrix.copy()\n",
        "    tmp_umatrix -= np.min(tmp_umatrix)\n",
        "    tmp_umatrix /= np.max(tmp_umatrix)\n",
        "    \n",
        "    if invert_umatrix:\n",
        "        tmp_umatrix = 1 - tmp_umatrix\n",
        "\n",
        "    for y in range(map_y):\n",
        "        for x in range(map_x):\n",
        "            canvas[y * node_width : (y + 1) * node_width, \n",
        "                   x * node_width : (x + 1) * node_width] = tmp_umatrix[y, x]\n",
        "    \n",
        "    if not node_edge_color is None:\n",
        "        # Draw node borders\n",
        "        for y in range(map_y):\n",
        "            canvas[y * node_width, :] = node_edge_color  \n",
        "\n",
        "        for x in range(map_x):\n",
        "            canvas[:, x * node_width] = node_edge_color  \n",
        "   \n",
        "    # Plot the SOM u-matrix as background \n",
        "    plt.figure(figsize=(map_x * node_width / dpi, map_y * node_width / dpi), dpi=dpi)\n",
        "    plt.imshow(canvas, cmap='gray', interpolation='hanning')\n",
        "\n",
        "    # Initialize some temp variables\n",
        "    item_count_map = np.zeros(umatrix.shape) \n",
        "    n_data_pts = data_locations.shape[0]\n",
        "\n",
        "    for i in range(n_data_pts):\n",
        "\n",
        "        x = data_locations[i, 1]\n",
        "        y = data_locations[i, 0]\n",
        "        items_in_cell = item_count_map[y, x]\n",
        "        item_count_map[y, x] += 1\n",
        "        x = x * node_width + node_width // 2 + items_in_cell * 5\n",
        "        y = y * node_width + node_width // 2 + items_in_cell * 5\n",
        "        plt.scatter(x, y, s=data_marker_size, color=data_colors[i], edgecolors=[0,0,0])\n",
        "        \n",
        "        if plot_labels:\n",
        "            plt.annotate(str(data_labels[i]), (x + 8, y), size='small')\n",
        "\n",
        "        plt.axis('off')\n",
        "        \n",
        "    filename = 'SOM_mapping_' + str(int(time.time())) + '.png'\n",
        "    plt.savefig(filename)\n",
        "    plt.show()\n",
        "    print(f'Image saved to {filename}')"
      ],
      "execution_count": null,
      "outputs": []
    },
    {
      "cell_type": "code",
      "metadata": {
        "id": "fG-CXYtCoDPk"
      },
      "source": [
        "# Load labels for visualization purposes.\n",
        "\n",
        "\n",
        "def read_labels():\n",
        "  labels=[0]*nb_image\n",
        "\n",
        "  \n",
        "  f = open(labels_file_path, \"r\")\n",
        "  comp=0\n",
        "  for line in f:   \n",
        "    labels[comp]=line[0]\n",
        "    comp+=1\n",
        "  \n",
        "  return (labels)\n",
        "    \n",
        "labels = read_labels()\n",
        "\n",
        "# Define color palette. The values are selected so that those are easily distinguishable from each other. \n",
        "palette = np.array([[0.90196078, 0.09803922, 0.29411765],\n",
        "                   [0.23529412, 0.70588235, 0.29411765],\n",
        "                   [1.        , 0.88235294, 0.09803922],\n",
        "                   [0.        , 0.50980392, 0.78431373],\n",
        "                   [0.96078431, 0.50980392, 0.18823529],\n",
        "                   [0.2745098 , 0.94117647, 0.94117647],\n",
        "                   [0.94117647, 0.19607843, 0.90196078],\n",
        "                   [0.98039216, 0.74509804, 0.74509804],\n",
        "                   [0.        , 0.50196078, 0.50196078],\n",
        "                   [0.90196078, 0.74509804, 1.        ],\n",
        "                   [0.66666667, 0.43137255, 0.15686275],\n",
        "                   [1.        , 0.98039216, 0.78431373],\n",
        "                   [0.50196078, 0.        , 0.        ],\n",
        "                   [0.66666667, 1.        , 0.76470588],\n",
        "                   [0.        , 0.        , 0.50196078],\n",
        "                   [0.50196078, 0.50196078, 0.50196078],\n",
        "                   [1.        , 1.        , 1.        ]])\n",
        "\n",
        "\n",
        "# Define color for each image vector index. \n",
        "colors = np.zeros((nb_image, 3))\n",
        "for i in range(nb_image):\n",
        "    colors[i] = palette[labels[i]]\n",
        "\n",
        "#preparing parameters\n",
        "u=umatrix()\n",
        "locations=data_locations()\n",
        "    \n",
        "# Plot the vector locations on the map using the colors defined above\n",
        "plot_data_on_map(u, locations, data_colors=colors, \n",
        "                 node_width=30, data_marker_size=100)"
      ],
      "execution_count": null,
      "outputs": []
    }
  ]
}